{
 "cells": [
  {
   "cell_type": "code",
   "execution_count": 2,
   "metadata": {},
   "outputs": [],
   "source": [
    "import sys, os\n",
    "import pandas as pd\n",
    "import numpy as np"
   ]
  },
  {
   "cell_type": "code",
   "execution_count": 3,
   "metadata": {},
   "outputs": [],
   "source": [
    "sys.argv[1] = 'trainingSet.csv'\n",
    "sys.argv[2] = 'testSet.csv'\n",
    "\n",
    "trainingDataFilename = sys.argv[1]\n",
    "testDataFilename = sys.argv[2]\n",
    "# modelIdx = int(sys.argv[3])\n",
    "modelIdx = 1"
   ]
  },
  {
   "cell_type": "code",
   "execution_count": 7,
   "metadata": {},
   "outputs": [],
   "source": [
    "def decisionTree(trainingSet, testSet):\n",
    "    print 'decisionTree'"
   ]
  },
  {
   "cell_type": "code",
   "execution_count": 8,
   "metadata": {},
   "outputs": [],
   "source": [
    "def bagging(trainingSet, testSet):\n",
    "    print 'bagging'"
   ]
  },
  {
   "cell_type": "code",
   "execution_count": 9,
   "metadata": {},
   "outputs": [],
   "source": [
    "def randomForests(trainingSet, testSet):\n",
    "    print 'randomForests'"
   ]
  },
  {
   "cell_type": "code",
   "execution_count": 10,
   "metadata": {},
   "outputs": [
    {
     "name": "stdout",
     "output_type": "stream",
     "text": [
      "decisionTree\n"
     ]
    }
   ],
   "source": [
    "trainingSet = pd.read_csv(trainingDataFilename)\n",
    "testSet = pd.read_csv(testDataFilename)\n",
    "\n",
    "if modelIdx == 1:\n",
    "    decisionTree(trainingSet, testSet)\n",
    "elif modelIdx == 2:\n",
    "    bagging(trainingSet, testSet)\n",
    "elif modelIdx == 3:\n",
    "    randomForests(trainingSet, testSet)\n",
    "else:\n",
    "    print 'modelIdx error'"
   ]
  },
  {
   "cell_type": "code",
   "execution_count": null,
   "metadata": {},
   "outputs": [],
   "source": []
  }
 ],
 "metadata": {
  "kernelspec": {
   "display_name": "Python 2",
   "language": "python",
   "name": "python2"
  },
  "language_info": {
   "codemirror_mode": {
    "name": "ipython",
    "version": 2
   },
   "file_extension": ".py",
   "mimetype": "text/x-python",
   "name": "python",
   "nbconvert_exporter": "python",
   "pygments_lexer": "ipython2",
   "version": "2.7.12"
  }
 },
 "nbformat": 4,
 "nbformat_minor": 2
}
