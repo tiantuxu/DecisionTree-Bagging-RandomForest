{
 "cells": [
  {
   "cell_type": "code",
   "execution_count": 1,
   "metadata": {},
   "outputs": [],
   "source": [
    "import sys, os\n",
    "import pandas as pd"
   ]
  },
  {
   "cell_type": "code",
   "execution_count": 2,
   "metadata": {},
   "outputs": [],
   "source": [
    "df = pd.read_csv('dating-full.csv')\n",
    "df = df.head(6500)"
   ]
  },
  {
   "cell_type": "code",
   "execution_count": 3,
   "metadata": {},
   "outputs": [],
   "source": [
    "# (i) Drop clumns\n",
    "df = df.drop('race', axis=1)\n",
    "df = df.drop('race_o', axis=1)\n",
    "df = df.drop('field', axis=1)"
   ]
  },
  {
   "cell_type": "code",
   "execution_count": 4,
   "metadata": {},
   "outputs": [],
   "source": [
    "# (ii) gender and 1(iv)\n",
    "df['gender'] = df['gender'].astype('category')\n",
    "df['gender'] = df['gender'].cat.codes\n",
    "\n",
    "preference_scores_of_participant  = ['attractive_important', 'sincere_important', 'intelligence_important', 'funny_important', 'ambition_important', 'shared_interests_important']\n",
    "preference_scores_of_partner = ['pref_o_attractive', 'pref_o_sincere', 'pref_o_intelligence',  'pref_o_funny', 'pref_o_ambitious', 'pref_o_shared_interests']\n",
    "\n",
    "df[preference_scores_of_participant] = df[preference_scores_of_participant].div(df[preference_scores_of_participant].sum(axis=1), axis=0)\n",
    "df[preference_scores_of_partner] = df[preference_scores_of_partner].div(df[preference_scores_of_partner].sum(axis=1), axis=0)"
   ]
  },
  {
   "cell_type": "code",
   "execution_count": 5,
   "metadata": {},
   "outputs": [],
   "source": [
    "keys = df.keys()\n",
    "for k in keys:\n",
    "    df[k] = pd.cut(df[k], 2, labels=[0,1])"
   ]
  },
  {
   "cell_type": "code",
   "execution_count": 6,
   "metadata": {},
   "outputs": [],
   "source": [
    "#print df\n",
    "df_test = df.sample(frac=0.2, random_state=47)\n",
    "df_test.to_csv('testSet.csv', index=False)\n",
    "# Subtract test from training\n",
    "df_train = df[~df.index.isin(df_test.index)]\n",
    "df_train.to_csv('trainingSet.csv', index=False)"
   ]
  },
  {
   "cell_type": "code",
   "execution_count": null,
   "metadata": {},
   "outputs": [],
   "source": []
  }
 ],
 "metadata": {
  "kernelspec": {
   "display_name": "Python 2",
   "language": "python",
   "name": "python2"
  },
  "language_info": {
   "codemirror_mode": {
    "name": "ipython",
    "version": 2
   },
   "file_extension": ".py",
   "mimetype": "text/x-python",
   "name": "python",
   "nbconvert_exporter": "python",
   "pygments_lexer": "ipython2",
   "version": "2.7.12"
  }
 },
 "nbformat": 4,
 "nbformat_minor": 2
}
